{
 "cells": [
  {
   "cell_type": "code",
   "execution_count": 1,
   "id": "405ec887-126b-4a3b-a21a-a12855f9caf8",
   "metadata": {},
   "outputs": [],
   "source": [
    "#qsn 1 solution:-\n",
    "\n",
    "\n",
    "#def keyword is used to create a function in python. \n",
    "\n",
    "l = list(range(1,26))\n",
    "l1 = [] \n",
    "def odd_number(a):\n",
    "    for i in l:\n",
    "        if i % 2 != 0:\n",
    "            l1.append(i)\n",
    "    return l1"
   ]
  },
  {
   "cell_type": "code",
   "execution_count": 2,
   "id": "3b12178f-a511-4243-9c23-40e2b47384ef",
   "metadata": {},
   "outputs": [
    {
     "data": {
      "text/plain": [
       "[1, 3, 5, 7, 9, 11, 13, 15, 17, 19, 21, 23, 25]"
      ]
     },
     "execution_count": 2,
     "metadata": {},
     "output_type": "execute_result"
    }
   ],
   "source": [
    "odd_number(l)"
   ]
  },
  {
   "cell_type": "code",
   "execution_count": 32,
   "id": "dc61b7c2-94f1-4530-be37-f1187a389cce",
   "metadata": {},
   "outputs": [],
   "source": [
    "#qsn 2 solution:-\n",
    "\n",
    "\"\"\" *args and **kwargs are used in some function when we want to pass n number of arguments or key-value pair respectively\n",
    "    in a function.\n",
    "    let me create a function for each to demonstrate it's use.\"\"\"\n",
    "#for *args:-\n",
    "def test1(*args):\n",
    "    return args\n",
    "\n",
    "#for **kwargs:-\n",
    "\n",
    "def test2(**kwargs):\n",
    "    return kwargs"
   ]
  },
  {
   "cell_type": "code",
   "execution_count": 33,
   "id": "69bd152b-f2c7-4117-b85b-905902305f27",
   "metadata": {},
   "outputs": [
    {
     "data": {
      "text/plain": [
       "(1, 2, 3, 65, 76, 'krsihna', 'keshavam', [64, 9, 6, 10])"
      ]
     },
     "execution_count": 33,
     "metadata": {},
     "output_type": "execute_result"
    }
   ],
   "source": [
    "test1(1,2,3,65,76, \"krsihna\", \"keshavam\", [64,9,6,10])"
   ]
  },
  {
   "cell_type": "code",
   "execution_count": 34,
   "id": "5cd1ed56-a903-427a-ad00-431e24f714b8",
   "metadata": {},
   "outputs": [
    {
     "data": {
      "text/plain": [
       "{'a': 12, 'b': 984, 'c': 'shri hari'}"
      ]
     },
     "execution_count": 34,
     "metadata": {},
     "output_type": "execute_result"
    }
   ],
   "source": [
    "test2(a = 12, b = 984, c = \"shri hari\")"
   ]
  },
  {
   "cell_type": "code",
   "execution_count": 5,
   "id": "f72d95ec-700a-4927-b735-fc3c7d91a6c5",
   "metadata": {},
   "outputs": [
    {
     "name": "stdout",
     "output_type": "stream",
     "text": [
      "2\n",
      "4\n",
      "6\n",
      "8\n",
      "10\n"
     ]
    }
   ],
   "source": [
    "#qsn 3 solution:-\n",
    "\n",
    "'''Iterator in Python is an object that is used to iterate over iterable objects like lists, tuples, dicts, and sets.\n",
    "   The iterator object is initialized using the iter() method. It uses the next() method for iteration.\n",
    "\n",
    "iter(): The iter() method is called for the initialization of an iterator. This returns an iterator object\n",
    "next(): The next method returns the next value for the iterable. When we use a for loop to traverse any iterable object,\n",
    "            internally it uses the iter() method to get an iterator object, which further uses the next() method to iterate over.\n",
    "            This method raises a StopIteration to signal the end of the iteration.\n",
    "\n",
    "Python iter() Example'''\n",
    "\n",
    "l = [2,4,6,8,10,12,14,16,18,20]\n",
    "digit = iter(l)\n",
    "\n",
    "print(next(digit))\n",
    "print(next(digit))\n",
    "print(next(digit))\n",
    "print(next(digit))\n",
    "print(next(digit))"
   ]
  },
  {
   "cell_type": "code",
   "execution_count": 17,
   "id": "4f6dd55e-2f98-4c23-a50e-da2344deb24d",
   "metadata": {},
   "outputs": [],
   "source": [
    "#qsn 4 solution:-\n",
    "\n",
    "'''generator function in python is a function which help us to generate the output for a given arguments.\n",
    "yield is used in python to create a generator function in python. yield help us to throw the output we\n",
    "want or we can say to print the output.\n",
    "generator funcntion can contain one or more yield statement.'''\n",
    "\n",
    "#example:-\n",
    "\n",
    "def square():\n",
    "    '''generates the square of numbers under range 10 in a list'''\n",
    "    for i in range(10):\n",
    "        yield i**2\n"
   ]
  },
  {
   "cell_type": "code",
   "execution_count": 16,
   "id": "cd0a7b09-4d0c-4914-8b90-bb3ee3acb864",
   "metadata": {},
   "outputs": [
    {
     "data": {
      "text/plain": [
       "[0, 1, 4, 9, 16, 25, 36, 49, 64, 81]"
      ]
     },
     "execution_count": 16,
     "metadata": {},
     "output_type": "execute_result"
    }
   ],
   "source": [
    "list(square())"
   ]
  },
  {
   "cell_type": "code",
   "execution_count": 9,
   "id": "0b65af80-1268-496a-9fe5-76dce6aa3d91",
   "metadata": {},
   "outputs": [
    {
     "name": "stdout",
     "output_type": "stream",
     "text": [
      "2\n",
      "3\n",
      "5\n",
      "7\n",
      "11\n",
      "13\n",
      "17\n",
      "19\n",
      "23\n",
      "29\n",
      "31\n",
      "37\n",
      "41\n",
      "43\n",
      "47\n",
      "53\n",
      "59\n",
      "61\n",
      "67\n",
      "71\n"
     ]
    }
   ],
   "source": [
    "#qsn 5 solution:-\n",
    "\n",
    "def prime_num():\n",
    "    '''generates prime numbers less than 1000'''\n",
    "    \n",
    "    for i in range(2,1000):\n",
    "        error = 0\n",
    "        for j in range(2,i):\n",
    "            if i%j == 0:\n",
    "                error = 1\n",
    "                break\n",
    "        if error == 0:\n",
    "            yield i\n",
    "\n",
    "            \n",
    "is_prime = iter(prime_num())\n",
    "for i in range(20):\n",
    "    print(next(is_prime))\n",
    "    "
   ]
  },
  {
   "cell_type": "code",
   "execution_count": 10,
   "id": "d7b5c5f2-44cd-4cff-87fd-4206103fd97a",
   "metadata": {},
   "outputs": [
    {
     "data": {
      "text/plain": [
       "[2,\n",
       " 3,\n",
       " 5,\n",
       " 7,\n",
       " 11,\n",
       " 13,\n",
       " 17,\n",
       " 19,\n",
       " 23,\n",
       " 29,\n",
       " 31,\n",
       " 37,\n",
       " 41,\n",
       " 43,\n",
       " 47,\n",
       " 53,\n",
       " 59,\n",
       " 61,\n",
       " 67,\n",
       " 71,\n",
       " 73,\n",
       " 79,\n",
       " 83,\n",
       " 89,\n",
       " 97,\n",
       " 101,\n",
       " 103,\n",
       " 107,\n",
       " 109,\n",
       " 113,\n",
       " 127,\n",
       " 131,\n",
       " 137,\n",
       " 139,\n",
       " 149,\n",
       " 151,\n",
       " 157,\n",
       " 163,\n",
       " 167,\n",
       " 173,\n",
       " 179,\n",
       " 181,\n",
       " 191,\n",
       " 193,\n",
       " 197,\n",
       " 199,\n",
       " 211,\n",
       " 223,\n",
       " 227,\n",
       " 229,\n",
       " 233,\n",
       " 239,\n",
       " 241,\n",
       " 251,\n",
       " 257,\n",
       " 263,\n",
       " 269,\n",
       " 271,\n",
       " 277,\n",
       " 281,\n",
       " 283,\n",
       " 293,\n",
       " 307,\n",
       " 311,\n",
       " 313,\n",
       " 317,\n",
       " 331,\n",
       " 337,\n",
       " 347,\n",
       " 349,\n",
       " 353,\n",
       " 359,\n",
       " 367,\n",
       " 373,\n",
       " 379,\n",
       " 383,\n",
       " 389,\n",
       " 397,\n",
       " 401,\n",
       " 409,\n",
       " 419,\n",
       " 421,\n",
       " 431,\n",
       " 433,\n",
       " 439,\n",
       " 443,\n",
       " 449,\n",
       " 457,\n",
       " 461,\n",
       " 463,\n",
       " 467,\n",
       " 479,\n",
       " 487,\n",
       " 491,\n",
       " 499,\n",
       " 503,\n",
       " 509,\n",
       " 521,\n",
       " 523,\n",
       " 541,\n",
       " 547,\n",
       " 557,\n",
       " 563,\n",
       " 569,\n",
       " 571,\n",
       " 577,\n",
       " 587,\n",
       " 593,\n",
       " 599,\n",
       " 601,\n",
       " 607,\n",
       " 613,\n",
       " 617,\n",
       " 619,\n",
       " 631,\n",
       " 641,\n",
       " 643,\n",
       " 647,\n",
       " 653,\n",
       " 659,\n",
       " 661,\n",
       " 673,\n",
       " 677,\n",
       " 683,\n",
       " 691,\n",
       " 701,\n",
       " 709,\n",
       " 719,\n",
       " 727,\n",
       " 733,\n",
       " 739,\n",
       " 743,\n",
       " 751,\n",
       " 757,\n",
       " 761,\n",
       " 769,\n",
       " 773,\n",
       " 787,\n",
       " 797,\n",
       " 809,\n",
       " 811,\n",
       " 821,\n",
       " 823,\n",
       " 827,\n",
       " 829,\n",
       " 839,\n",
       " 853,\n",
       " 857,\n",
       " 859,\n",
       " 863,\n",
       " 877,\n",
       " 881,\n",
       " 883,\n",
       " 887,\n",
       " 907,\n",
       " 911,\n",
       " 919,\n",
       " 929,\n",
       " 937,\n",
       " 941,\n",
       " 947,\n",
       " 953,\n",
       " 967,\n",
       " 971,\n",
       " 977,\n",
       " 983,\n",
       " 991,\n",
       " 997]"
      ]
     },
     "execution_count": 10,
     "metadata": {},
     "output_type": "execute_result"
    }
   ],
   "source": [
    "list(prime_num())"
   ]
  },
  {
   "cell_type": "code",
   "execution_count": 22,
   "id": "549d92c8-82cb-465a-8c8c-bcdad47eea6b",
   "metadata": {},
   "outputs": [
    {
     "name": "stdout",
     "output_type": "stream",
     "text": [
      "0\n",
      "1\n",
      "1\n",
      "2\n",
      "3\n",
      "5\n",
      "8\n",
      "13\n",
      "21\n",
      "34\n"
     ]
    }
   ],
   "source": [
    "#qsn 6 solution:-\n",
    "\n",
    "n = 0\n",
    "a = 1\n",
    "b = 0\n",
    "while n < 10:\n",
    "    c = a+b\n",
    "    a = b\n",
    "    b = c\n",
    "    n+=1\n",
    "    print(a)"
   ]
  },
  {
   "cell_type": "code",
   "execution_count": 23,
   "id": "a421b33d-8deb-475a-b501-6081dfc47e09",
   "metadata": {},
   "outputs": [
    {
     "data": {
      "text/plain": [
       "['p', 'w', 's', 'k', 'i', 'l', 'l', 's']"
      ]
     },
     "execution_count": 23,
     "metadata": {},
     "output_type": "execute_result"
    }
   ],
   "source": [
    "#qsn 7 solution:-\n",
    "\n",
    "s = \"pwskills\"\n",
    "[i for i in s]"
   ]
  },
  {
   "cell_type": "code",
   "execution_count": 34,
   "id": "f07dc7fc-357a-4746-a081-a47d234f4f19",
   "metadata": {},
   "outputs": [
    {
     "name": "stdin",
     "output_type": "stream",
     "text": [
      "enter your number:-  4554\n"
     ]
    },
    {
     "name": "stdout",
     "output_type": "stream",
     "text": [
      "the number 4554 is palindrome\n"
     ]
    }
   ],
   "source": [
    "#qsn 8 solution:-\n",
    "\n",
    "num = int(input(\"enter your number:- \"))\n",
    "\n",
    "rev = 0\n",
    "check = num\n",
    "while num > 0:\n",
    "          rev = (rev*10) + num%10\n",
    "          num = num//10\n",
    "if check == rev:\n",
    "          print(\"the number\", check, \"is palindrome\")\n",
    "else :\n",
    "          print(\"the number\", check, \"is not palindrome\")"
   ]
  },
  {
   "cell_type": "code",
   "execution_count": 43,
   "id": "2c3722f5-00b7-4849-b213-3d0d9826ab6c",
   "metadata": {},
   "outputs": [
    {
     "data": {
      "text/plain": [
       "[1,\n",
       " 3,\n",
       " 5,\n",
       " 7,\n",
       " 9,\n",
       " 11,\n",
       " 13,\n",
       " 15,\n",
       " 17,\n",
       " 19,\n",
       " 21,\n",
       " 23,\n",
       " 25,\n",
       " 27,\n",
       " 29,\n",
       " 31,\n",
       " 33,\n",
       " 35,\n",
       " 37,\n",
       " 39,\n",
       " 41,\n",
       " 43,\n",
       " 45,\n",
       " 47,\n",
       " 49,\n",
       " 51,\n",
       " 53,\n",
       " 55,\n",
       " 57,\n",
       " 59,\n",
       " 61,\n",
       " 63,\n",
       " 65,\n",
       " 67,\n",
       " 69,\n",
       " 71,\n",
       " 73,\n",
       " 75,\n",
       " 77,\n",
       " 79,\n",
       " 81,\n",
       " 83,\n",
       " 85,\n",
       " 87,\n",
       " 89,\n",
       " 91,\n",
       " 93,\n",
       " 95,\n",
       " 97,\n",
       " 99]"
      ]
     },
     "execution_count": 43,
     "metadata": {},
     "output_type": "execute_result"
    }
   ],
   "source": [
    "#qsn 9 solution :-\n",
    "\n",
    "l = [i for i in range(1,100)]\n",
    "[i for i in l if i%2 != 0]"
   ]
  },
  {
   "cell_type": "code",
   "execution_count": null,
   "id": "a40c351d-f4d3-40ef-8671-d8553a14a6c4",
   "metadata": {},
   "outputs": [],
   "source": []
  }
 ],
 "metadata": {
  "kernelspec": {
   "display_name": "Python 3 (ipykernel)",
   "language": "python",
   "name": "python3"
  },
  "language_info": {
   "codemirror_mode": {
    "name": "ipython",
    "version": 3
   },
   "file_extension": ".py",
   "mimetype": "text/x-python",
   "name": "python",
   "nbconvert_exporter": "python",
   "pygments_lexer": "ipython3",
   "version": "3.10.8"
  }
 },
 "nbformat": 4,
 "nbformat_minor": 5
}
